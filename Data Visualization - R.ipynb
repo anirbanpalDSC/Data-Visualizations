{
 "cells": [
  {
   "cell_type": "markdown",
   "metadata": {},
   "source": [
    "## Data Visualization - R\n",
    "\n",
    "### Background\n",
    "\n",
    "This notebook intends to provide example of basic to advanced data visualization techniques using R. The intention is not to go deep in `ggplot` using a handful of plots and show all the options, rather showcase different graph types and how to generate them."
   ]
  },
  {
   "cell_type": "code",
   "execution_count": 10,
   "metadata": {
    "cell_style": "center",
    "scrolled": true
   },
   "outputs": [
    {
     "data": {
      "text/html": [
       "<table>\n",
       "<caption>A data.frame: 6 × 4</caption>\n",
       "<thead>\n",
       "\t<tr><th scope=col>Issue</th><th scope=col>Approve</th><th scope=col>Disapprove</th><th scope=col>None</th></tr>\n",
       "\t<tr><th scope=col>&lt;chr&gt;</th><th scope=col>&lt;dbl&gt;</th><th scope=col>&lt;dbl&gt;</th><th scope=col>&lt;dbl&gt;</th></tr>\n",
       "</thead>\n",
       "<tbody>\n",
       "\t<tr><td>Race Relations </td><td>52</td><td>38</td><td>10</td></tr>\n",
       "\t<tr><td>Education      </td><td>49</td><td>40</td><td>11</td></tr>\n",
       "\t<tr><td>Terrorism      </td><td>48</td><td>45</td><td> 7</td></tr>\n",
       "\t<tr><td>Energy Policy  </td><td>47</td><td>42</td><td>11</td></tr>\n",
       "\t<tr><td>Foreign Affairs</td><td>44</td><td>48</td><td> 8</td></tr>\n",
       "\t<tr><td>Environment    </td><td>43</td><td>51</td><td> 6</td></tr>\n",
       "</tbody>\n",
       "</table>\n"
      ],
      "text/latex": [
       "A data.frame: 6 × 4\n",
       "\\begin{tabular}{r|llll}\n",
       " Issue & Approve & Disapprove & None\\\\\n",
       " <chr> & <dbl> & <dbl> & <dbl>\\\\\n",
       "\\hline\n",
       "\t Race Relations  & 52 & 38 & 10\\\\\n",
       "\t Education       & 49 & 40 & 11\\\\\n",
       "\t Terrorism       & 48 & 45 &  7\\\\\n",
       "\t Energy Policy   & 47 & 42 & 11\\\\\n",
       "\t Foreign Affairs & 44 & 48 &  8\\\\\n",
       "\t Environment     & 43 & 51 &  6\\\\\n",
       "\\end{tabular}\n"
      ],
      "text/markdown": [
       "\n",
       "A data.frame: 6 × 4\n",
       "\n",
       "| Issue &lt;chr&gt; | Approve &lt;dbl&gt; | Disapprove &lt;dbl&gt; | None &lt;dbl&gt; |\n",
       "|---|---|---|---|\n",
       "| Race Relations  | 52 | 38 | 10 |\n",
       "| Education       | 49 | 40 | 11 |\n",
       "| Terrorism       | 48 | 45 |  7 |\n",
       "| Energy Policy   | 47 | 42 | 11 |\n",
       "| Foreign Affairs | 44 | 48 |  8 |\n",
       "| Environment     | 43 | 51 |  6 |\n",
       "\n"
      ],
      "text/plain": [
       "  Issue           Approve Disapprove None\n",
       "1 Race Relations  52      38         10  \n",
       "2 Education       49      40         11  \n",
       "3 Terrorism       48      45          7  \n",
       "4 Energy Policy   47      42         11  \n",
       "5 Foreign Affairs 44      48          8  \n",
       "6 Environment     43      51          6  "
      ]
     },
     "metadata": {},
     "output_type": "display_data"
    }
   ],
   "source": [
    "# Import required packages\n",
    "library(\"magrittr\")\n",
    "library(\"repr\")\n",
    "\n",
    "# Import data to be used for visualization\n",
    "fileData = paste(getwd(), \"/Data/obama-approval-ratings.xls\", sep = \"\")\n",
    "obama = xlsx::read.xlsx(fileData, sheetIndex = 1, stringsAsFactors = FALSE)\n",
    "\n",
    "# Examine data\n",
    "head(obama)"
   ]
  },
  {
   "cell_type": "markdown",
   "metadata": {
    "cell_style": "split"
   },
   "source": [
    "### Bar Chart\n",
    "\n",
    "We use bar chart or bar graph to represent categorical data as the rectangular bars with heights (vertical bar) or lengths (horizontal bar) proportional to the values that they represent. As the definition suggests, bar chart could be either vertical or horizontal.\n",
    "\n",
    "Here, the categorical variable is issue and can be plotted on *x-axis*. Let's pick Approval Ratings as the measure and plot it on the *y-axis*."
   ]
  },
  {
   "cell_type": "markdown",
   "metadata": {
    "cell_style": "split"
   },
   "source": [
    "<img src=\"Images/bar.png\">\n",
    "\n",
    "_Image ref:_ http://ksrowell.com"
   ]
  },
  {
   "cell_type": "code",
   "execution_count": 20,
   "metadata": {},
   "outputs": [
    {
     "data": {
      "image/png": "[encoded data removed]",
      "text/plain": [
       "plot without title"
      ]
     },
     "metadata": {},
     "output_type": "display_data"
    }
   ],
   "source": [
    "# Set output plot size\n",
    "options(repr.plot.width=8, repr.plot.height=4)\n",
    "\n",
    "# Create bar plot\n",
    "obama %>%\n",
    "    dplyr::select(Issue, Approve) %>%\n",
    "    dplyr::arrange(-Approve) %>%\n",
    "    dplyr::mutate(SortOrder = factor(Issue, Issue)) %>% \n",
    "    ggplot2::ggplot(ggplot2::aes(x=SortOrder, y=Approve, fill=Issue)) +\n",
    "        ggplot2::geom_bar(stat='identity', color='black') + \n",
    "        ggplot2::xlab('Issue') + ggplot2::ylab('Approval Count') +\n",
    "        ggplot2::theme(axis.text.x=ggplot2::element_blank()) +\n",
    "        ggplot2::ggtitle('Approval Rating of Obama') "
   ]
  },
  {
   "cell_type": "markdown",
   "metadata": {
    "cell_style": "split"
   },
   "source": [
    "### Stacked Bar Chart\n",
    "\n",
    "A stacked bar chart is similar to bar chart, but it adds more detail to the visual. It breaks down and compare parts of a whole (category). Each bar in the chart represents a whole, and segments in the bar represent different parts or categories of that whole. Similar to bar chart, stacked bar chart can also be vertical or horizontal.\n",
    "\n",
    "Let us plot each issue with their respective Approval, Disapproval and Neutral counts. This will generate a 100% stacked bar chart for each issue, so that the reactions are rightfully captured. 100% stacked bar is just another variant of regular stacked bar where all the measures are normalized as percentage instead of actual value."
   ]
  },
  {
   "cell_type": "markdown",
   "metadata": {
    "cell_style": "split"
   },
   "source": [
    "<img src=\"Images/stacked.jpg\">"
   ]
  },
  {
   "cell_type": "code",
   "execution_count": 24,
   "metadata": {},
   "outputs": [
    {
     "data": {
      "image/png": "[encoded data removed]",
      "text/plain": [
       "plot without title"
      ]
     },
     "metadata": {},
     "output_type": "display_data"
    }
   ],
   "source": [
    "# Set output plot size\n",
    "options(repr.plot.width=6, repr.plot.height=4)\n",
    "\n",
    "# We need to reshape the data to long format for this purpose\n",
    "obama_long = obama %>%\n",
    "    tidyr::gather('Reaction','Ratings', Approve, Disapprove, None)\n",
    "\n",
    "# Plot stacked\n",
    "ggplot2::ggplot(data = obama_long, ggplot2::aes(x = Issue, y = Ratings, fill = Reaction)) + \n",
    "    ggplot2:: geom_bar(stat='identity') + \n",
    "    ggplot2::theme(axis.text.x = ggplot2::element_text(angle = 90, hjust = 1)) + \n",
    "    ggplot2::scale_fill_brewer(palette = 15)"
   ]
  },
  {
   "cell_type": "markdown",
   "metadata": {
    "cell_style": "split"
   },
   "source": [
    "### Pie Chart\n",
    "\n",
    "A Pie-chart is a useful way of representing small numbers of variables. Particular aspects can be emphasised by exploding or highlighting segments. The pie chart is ideally suited to small numbers of variables, so the number of fill patterns or colours available will rarely be an issue, although the appropriate choice of pattern or colour will be important.\n",
    "\n",
    "Having said that, processing accurate information based on arc angle and vollume of slice is not easy for human brain. A pie chart could be easily replaced by a stacked bar chart.\n",
    "\n",
    "Let us consider the numbners of different reactions to the immigration issue during Obama era to demonstrate pie chart.?"
   ]
  },
  {
   "cell_type": "markdown",
   "metadata": {
    "cell_style": "split"
   },
   "source": [
    "<img src=\"Images/pie.gif\">\n",
    "\n",
    "_image source:_ http://www.agocg.ac.uk/"
   ]
  },
  {
   "cell_type": "code",
   "execution_count": 33,
   "metadata": {},
   "outputs": [
    {
     "data": {
      "image/png": "[encoded data removed]",
      "text/plain": [
       "plot without title"
      ]
     },
     "metadata": {},
     "output_type": "display_data"
    }
   ],
   "source": [
    "# For this purpose, I would need the long data set. Because we need the stacked chart before creating pie chart from it\n",
    "# Since pie chart is not easy to digest, I would NOT use the same color family for the different sections\n",
    "obama_long %>%\n",
    "    dplyr::filter(Issue=='Immigration') %>%\n",
    "    ggplot2::ggplot(ggplot2::aes(x=\"\", y=Ratings, fill=Reaction))+\n",
    "        ggplot2::geom_bar(width = 1, stat = 'identity') +\n",
    "        ggplot2::coord_polar('y', start=0) + \n",
    "        ggplot2::geom_text(ggplot2::aes(label = Ratings), position = ggplot2::position_stack(vjust = 0.5)) +\n",
    "        ggplot2::ggtitle(label = 'Reaction on Immigration Issue in Obama Era') +\n",
    "        ggplot2::scale_fill_brewer(palette='Spectral') + \n",
    "        ggplot2::theme(axis.line = ggplot2::element_blank(),\n",
    "          axis.text = ggplot2::element_blank(),\n",
    "          axis.ticks = ggplot2::element_blank(),\n",
    "          plot.title = ggplot2::element_text(hjust = 0.5))"
   ]
  },
  {
   "cell_type": "markdown",
   "metadata": {
    "cell_style": "split"
   },
   "source": [
    "### Donut Chart\n",
    "\n",
    "A donut chart is essentially a pie chart with the center cut out. Donit chart is intended to handle the drawbacks of comparing areas of the slices as in pie chart. Additionally, as in the example, the blank area at the center of the donut chart could be used to show other information.\n",
    "\n",
    "But still, donut charts do not add anything supirior comapred to stacked bar or bar.\n",
    "\n",
    "Different reactions on education issues during Obama era is plotted in a rin/donut."
   ]
  },
  {
   "cell_type": "markdown",
   "metadata": {
    "cell_style": "split"
   },
   "source": [
    "<img src=\"Images/donut.jpg\">"
   ]
  },
  {
   "cell_type": "code",
   "execution_count": 32,
   "metadata": {},
   "outputs": [
    {
     "data": {
      "image/png": "[encoded data removed]",
      "text/plain": [
       "plot without title"
      ]
     },
     "metadata": {},
     "output_type": "display_data"
    }
   ],
   "source": [
    "obama_long %>%\n",
    "    dplyr::filter(Issue=='Education') %>%\n",
    "    dplyr::mutate(ymax=cumsum(Ratings),\n",
    "                  ymin=c(0,ymax[1:length(ymax)-1])) %>%\n",
    "    ggplot2::ggplot(ggplot2::aes(fill=Reaction, ymax=ymax, ymin=ymin, xmax=4, xmin=3)) +\n",
    "         ggplot2::geom_rect() +\n",
    "         ggplot2::coord_polar(theta='y') +\n",
    "         ggplot2::xlim(c(0, 4)) +\n",
    "         ggplot2::theme(panel.grid=ggplot2::element_blank()) +\n",
    "         ggplot2::theme(axis.text=ggplot2::element_blank()) +\n",
    "         ggplot2::theme(axis.ticks=ggplot2::element_blank()) +\n",
    "         ggplot2::annotate('text', x = 0, y = 0, label = 'Reaction on Education') +\n",
    "         ggplot2::labs(title='')"
   ]
  },
  {
   "cell_type": "markdown",
   "metadata": {
    "cell_style": "split"
   },
   "source": [
    "### Line Graph\n",
    "\n",
    "Line graphs are used to track changes over short and long periods of time. When smaller changes exist, line graphs are better to use than bar graphs. Line graphs can also be used to compare changes over the same period of time for more than one group.\n",
    "\n",
    "For line graph demonstration, let's plot the profit by order year and segment from the famous _Sample Superstores_ dataset. This needs some additional data preparation as below."
   ]
  },
  {
   "cell_type": "markdown",
   "metadata": {
    "cell_style": "split"
   },
   "source": [
    "<img src=\"Images/line.gif\">\n",
    "\n",
    "_image source:_ http://www.owlnet.rice.edu"
   ]
  },
  {
   "cell_type": "code",
   "execution_count": 36,
   "metadata": {},
   "outputs": [
    {
     "data": {
      "text/html": [
       "<table>\n",
       "<caption>A tibble: 6 × 3</caption>\n",
       "<thead>\n",
       "\t<tr><th scope=col>OrderYear</th><th scope=col>Segment</th><th scope=col>TotalProfit</th></tr>\n",
       "\t<tr><th scope=col>&lt;dbl&gt;</th><th scope=col>&lt;chr&gt;</th><th scope=col>&lt;dbl&gt;</th></tr>\n",
       "</thead>\n",
       "<tbody>\n",
       "\t<tr><td>2014</td><td>Consumer   </td><td>24319.85</td></tr>\n",
       "\t<tr><td>2014</td><td>Corporate  </td><td>13513.28</td></tr>\n",
       "\t<tr><td>2014</td><td>Home Office</td><td>11710.85</td></tr>\n",
       "\t<tr><td>2015</td><td>Consumer   </td><td>28460.17</td></tr>\n",
       "\t<tr><td>2015</td><td>Corporate  </td><td>20688.32</td></tr>\n",
       "\t<tr><td>2015</td><td>Home Office</td><td>12470.11</td></tr>\n",
       "</tbody>\n",
       "</table>\n"
      ],
      "text/latex": [
       "A tibble: 6 × 3\n",
       "\\begin{tabular}{r|lll}\n",
       " OrderYear & Segment & TotalProfit\\\\\n",
       " <dbl> & <chr> & <dbl>\\\\\n",
       "\\hline\n",
       "\t 2014 & Consumer    & 24319.85\\\\\n",
       "\t 2014 & Corporate   & 13513.28\\\\\n",
       "\t 2014 & Home Office & 11710.85\\\\\n",
       "\t 2015 & Consumer    & 28460.17\\\\\n",
       "\t 2015 & Corporate   & 20688.32\\\\\n",
       "\t 2015 & Home Office & 12470.11\\\\\n",
       "\\end{tabular}\n"
      ],
      "text/markdown": [
       "\n",
       "A tibble: 6 × 3\n",
       "\n",
       "| OrderYear &lt;dbl&gt; | Segment &lt;chr&gt; | TotalProfit &lt;dbl&gt; |\n",
       "|---|---|---|\n",
       "| 2014 | Consumer    | 24319.85 |\n",
       "| 2014 | Corporate   | 13513.28 |\n",
       "| 2014 | Home Office | 11710.85 |\n",
       "| 2015 | Consumer    | 28460.17 |\n",
       "| 2015 | Corporate   | 20688.32 |\n",
       "| 2015 | Home Office | 12470.11 |\n",
       "\n"
      ],
      "text/plain": [
       "  OrderYear Segment     TotalProfit\n",
       "1 2014      Consumer    24319.85   \n",
       "2 2014      Corporate   13513.28   \n",
       "3 2014      Home Office 11710.85   \n",
       "4 2015      Consumer    28460.17   \n",
       "5 2015      Corporate   20688.32   \n",
       "6 2015      Home Office 12470.11   "
      ]
     },
     "metadata": {},
     "output_type": "display_data"
    }
   ],
   "source": [
    "# Import data to be used for visualization\n",
    "fileData = paste(getwd(), \"/Data/Sample - Superstore.xlsx\", sep = \"\")\n",
    "superstore = xlsx::read.xlsx(fileData, sheetIndex = 1, stringsAsFactors = FALSE)\n",
    "\n",
    "# Data preparation before plotting in a line graph\n",
    "superstorePrep = superstore %>% \n",
    "                  dplyr::mutate(OrderYear = as.numeric(format(as.Date(Order.Date), '%Y'))) %>% \n",
    "                  dplyr::select(OrderYear, Segment, Profit) %>% \n",
    "                  dplyr::group_by(OrderYear, Segment) %>% \n",
    "                  dplyr::summarise(TotalProfit = sum(Profit))\n",
    "\n",
    "# Examine data\n",
    "head(superstorePrep)"
   ]
  },
  {
   "cell_type": "code",
   "execution_count": 39,
   "metadata": {},
   "outputs": [
    {
     "data": {
      "image/png": "[encoded data removed]",
      "text/plain": [
       "plot without title"
      ]
     },
     "metadata": {},
     "output_type": "display_data"
    }
   ],
   "source": [
    "# Set output plot size\n",
    "options(repr.plot.width=6, repr.plot.height=3)\n",
    "\n",
    "# Create line plot\n",
    "ggplot2::ggplot(data=superstorePrep, ggplot2::aes(x=OrderYear, y=TotalProfit, group=Segment)) +\n",
    "    ggplot2::geom_line(linetype='solid', size=1.2, ggplot2::aes(color=Segment)) +\n",
    "    ggplot2::scale_color_brewer(palette='Dark2') +\n",
    "    ggplot2::theme_minimal() +\n",
    "    ggplot2::theme(legend.position='top', \n",
    "                   legend.title=ggplot2::element_text(size=14), \n",
    "                   legend.text=ggplot2::element_text(size=12),\n",
    "                   axis.text=ggplot2::element_text(size=12),\n",
    "                   axis.title=ggplot2::element_text(size=12)\n",
    "                  )"
   ]
  },
  {
   "cell_type": "markdown",
   "metadata": {
    "cell_style": "split"
   },
   "source": [
    "### Step Graph\n",
    "\n",
    "A step graph is a special type of line graph that is made up of lines in several horizontal intervals or 'steps'. The end of the previous horizontal step lies on the same vertical line for the start of the next step, i.e. each new step begins directly above where the previous step finished.\n",
    "\n",
    "The line graph in the prior segment is displayed as a step graph as below."
   ]
  },
  {
   "cell_type": "markdown",
   "metadata": {
    "cell_style": "split"
   },
   "source": [
    "<img src=\"Images/step.png\">"
   ]
  },
  {
   "cell_type": "code",
   "execution_count": 46,
   "metadata": {},
   "outputs": [
    {
     "data": {
      "image/png": "[encoded data removed]",
      "text/plain": [
       "plot without title"
      ]
     },
     "metadata": {},
     "output_type": "display_data"
    }
   ],
   "source": [
    "ggplot2::ggplot(data=superstorePrep, ggplot2::aes(x=OrderYear, y=TotalProfit, group=Segment)) +\n",
    "    ggplot2::geom_step(linetype='solid', size=1.2, ggplot2::aes(color=Segment)) +\n",
    "    ggplot2::scale_color_brewer(palette='Dark2') +\n",
    "    ggplot2::theme_minimal() +\n",
    "    ggplot2::theme(legend.position='top', \n",
    "                   legend.title=ggplot2::element_text(size=14), \n",
    "                   legend.text=ggplot2::element_text(size=12),\n",
    "                   axis.text=ggplot2::element_text(size=12),\n",
    "                   axis.title=ggplot2::element_text(size=12)\n",
    "                  )"
   ]
  },
  {
   "cell_type": "markdown",
   "metadata": {},
   "source": [
    "### Tree Map\n",
    "\n",
    "Treemaps are an alternative way of visualising the hierarchical structure of a Tree Diagram while also displaying quantities for each category via area size. Each category is assigned a rectangle area with their subcategory rectangles nested inside of it. The area size is displayed in proportion to the quantity of a category and to the other quantities within the same parent category in a part-to-whole relationship. Also, the area size of the parent category is the total of its subcategories. If no quantity is assigned to a subcategory, then it's area is divided equally amongst the other subcategories within its parent category.\n",
    "\n",
    "_Source:_ https://datavizcatalogue.com/methods/treemap.html"
   ]
  },
  {
   "cell_type": "markdown",
   "metadata": {
    "cell_style": "split"
   },
   "source": [
    "<img src=\"Images/tree1.png\">"
   ]
  },
  {
   "cell_type": "markdown",
   "metadata": {
    "cell_style": "split"
   },
   "source": [
    "<img src=\"Images/tree2.png\">"
   ]
  },
  {
   "cell_type": "code",
   "execution_count": 72,
   "metadata": {},
   "outputs": [
    {
     "name": "stderr",
     "output_type": "stream",
     "text": [
      "Warning message in file(file, \"rt\"):\n",
      "\"cannot open file '/Data/expenditures.txt': No such file or directory\""
     ]
    },
    {
     "ename": "ERROR",
     "evalue": "Error in file(file, \"rt\"): cannot open the connection\n",
     "output_type": "error",
     "traceback": [
      "Error in file(file, \"rt\"): cannot open the connection\nTraceback:\n",
      "1. read.table(file_expenditures, header = TRUE)",
      "2. file(file, \"rt\")"
     ]
    }
   ],
   "source": [
    "# Load data for tree map\n",
    "file_expenditures = '/Data/expenditures.txt'\n",
    "file_unemployement = '/Data/unemployement-rate-1948-2010.csv'\n",
    "\n",
    "raw_expenditures =  read.table(file_expenditures, header = TRUE)#, sep = '\\t', dec = '.', fill = TRUE)\n",
    "\n",
    "#raw_unemployement = read.csv2(file_unemployement, sep=',', stringsAsFactors = FALSE) %>% \n",
    "#    dplyr::mutate(Value = as.numeric(Value)) %>% \n",
    "#    as.data.frame()\n",
    "\n",
    "# Examine data\n",
    "#print(head(raw_expenditures))\n",
    "#print(head(raw_unemployement))"
   ]
  },
  {
   "cell_type": "code",
   "execution_count": 66,
   "metadata": {},
   "outputs": [
    {
     "data": {
      "image/png": "[encoded data removed]",
      "text/plain": [
       "plot without title"
      ]
     },
     "metadata": {},
     "output_type": "display_data"
    }
   ],
   "source": [
    "# Set output plot size\n",
    "options(repr.plot.width=10, repr.plot.height=10)\n",
    "\n",
    "treemap::treemap(superstore_tree,index = 'Sub.Category',\n",
    "                 vSize = 'Total Sales',\n",
    "                 title = 'Furniture Sales by Sub Category')"
   ]
  },
  {
   "cell_type": "code",
   "execution_count": null,
   "metadata": {},
   "outputs": [],
   "source": []
  }
 ],
 "metadata": {
  "kernelspec": {
   "display_name": "R",
   "language": "R",
   "name": "ir"
  },
  "language_info": {
   "codemirror_mode": "r",
   "file_extension": ".r",
   "mimetype": "text/x-r-source",
   "name": "R",
   "pygments_lexer": "r",
   "version": "3.5.1"
  },
  "latex_envs": {
   "LaTeX_envs_menu_present": true,
   "autoclose": false,
   "autocomplete": true,
   "bibliofile": "biblio.bib",
   "cite_by": "apalike",
   "current_citInitial": 1,
   "eqLabelWithNumbers": true,
   "eqNumInitial": 1,
   "hotkeys": {
    "equation": "Ctrl-E",
    "itemize": "Ctrl-I"
   },
   "labels_anchors": false,
   "latex_user_defs": false,
   "report_style_numbering": false,
   "user_envs_cfg": false
  }
 },
 "nbformat": 4,
 "nbformat_minor": 2
}
