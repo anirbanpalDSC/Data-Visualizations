{
 "cells": [
  {
   "cell_type": "markdown",
   "metadata": {},
   "source": [
    "## Data Visualization - R\n",
    "\n",
    "### Background\n",
    "\n",
    "This notebook intends to provide example of basic to advanced data visualization techniques using R. The intention is not to go deep in `ggplot` using a handful of plots and show all the options, rather showcase different graph types and how to generate them.\n",
    "\n",
    "It is also noteworthy that a very critical graph, _Bullet Graph_ has been kept out in this notebook for the time being. I am working in creating a function for bullet graph as a separate project. Once completed, it could be added as a graph type in this notebook."
   ]
  },
  {
   "cell_type": "code",
   "execution_count": 7,
   "metadata": {
    "cell_style": "center",
    "scrolled": true
   },
   "outputs": [
    {
     "data": {
      "text/html": [
       "<table>\n",
       "<thead><tr><th scope=col>Issue</th><th scope=col>Approve</th><th scope=col>Disapprove</th><th scope=col>None</th></tr></thead>\n",
       "<tbody>\n",
       "\t<tr><td>Race Relations </td><td>52             </td><td>38             </td><td>10             </td></tr>\n",
       "\t<tr><td>Education      </td><td>49             </td><td>40             </td><td>11             </td></tr>\n",
       "\t<tr><td>Terrorism      </td><td>48             </td><td>45             </td><td> 7             </td></tr>\n",
       "\t<tr><td>Energy Policy  </td><td>47             </td><td>42             </td><td>11             </td></tr>\n",
       "\t<tr><td>Foreign Affairs</td><td>44             </td><td>48             </td><td> 8             </td></tr>\n",
       "\t<tr><td>Environment    </td><td>43             </td><td>51             </td><td> 6             </td></tr>\n",
       "</tbody>\n",
       "</table>\n"
      ],
      "text/latex": [
       "\\begin{tabular}{r|llll}\n",
       " Issue & Approve & Disapprove & None\\\\\n",
       "\\hline\n",
       "\t Race Relations  & 52              & 38              & 10             \\\\\n",
       "\t Education       & 49              & 40              & 11             \\\\\n",
       "\t Terrorism       & 48              & 45              &  7             \\\\\n",
       "\t Energy Policy   & 47              & 42              & 11             \\\\\n",
       "\t Foreign Affairs & 44              & 48              &  8             \\\\\n",
       "\t Environment     & 43              & 51              &  6             \\\\\n",
       "\\end{tabular}\n"
      ],
      "text/markdown": [
       "\n",
       "| Issue | Approve | Disapprove | None |\n",
       "|---|---|---|---|\n",
       "| Race Relations  | 52              | 38              | 10              |\n",
       "| Education       | 49              | 40              | 11              |\n",
       "| Terrorism       | 48              | 45              |  7              |\n",
       "| Energy Policy   | 47              | 42              | 11              |\n",
       "| Foreign Affairs | 44              | 48              |  8              |\n",
       "| Environment     | 43              | 51              |  6              |\n",
       "\n"
      ],
      "text/plain": [
       "  Issue           Approve Disapprove None\n",
       "1 Race Relations  52      38         10  \n",
       "2 Education       49      40         11  \n",
       "3 Terrorism       48      45          7  \n",
       "4 Energy Policy   47      42         11  \n",
       "5 Foreign Affairs 44      48          8  \n",
       "6 Environment     43      51          6  "
      ]
     },
     "metadata": {},
     "output_type": "display_data"
    }
   ],
   "source": [
    "# Import required packages\n",
    "library(\"magrittr\")\n",
    "library(\"repr\")\n",
    "\n",
    "# Import data to be used for visualization\n",
    "fileData = paste(getwd(), \"/Data/obama-approval-ratings.xls\", sep = \"\")\n",
    "obama = xlsx::read.xlsx(fileData, sheetIndex = 1, stringsAsFactors = FALSE)\n",
    "\n",
    "# Examine data\n",
    "head(obama)"
   ]
  },
  {
   "cell_type": "markdown",
   "metadata": {
    "cell_style": "split"
   },
   "source": [
    "### Bar Chart\n",
    "\n",
    "We use bar chart or bar graph to represent categorical data as the rectangular bars with heights (vertical bar) or lengths (horizontal bar) proportional to the values that they represent. As the definition suggests, bar chart could be either vertical or horizontal.\n",
    "\n",
    "Here, the categorical variable is issue and can be plotted on *x-axis*. Let's pick Approval Ratings as the measure and plot it on the *y-axis*."
   ]
  },
  {
   "cell_type": "markdown",
   "metadata": {
    "cell_style": "split"
   },
   "source": [
    "<img src=\"Images/bar.png\">\n",
    "\n",
    "_Image ref:_ http://ksrowell.com"
   ]
  },
  {
   "cell_type": "code",
   "execution_count": 8,
   "metadata": {},
   "outputs": [
    {
     "data": {
      "image/png": "[encoded data removed]",
      "text/plain": [
       "plot without title"
      ]
     },
     "metadata": {},
     "output_type": "display_data"
    }
   ],
   "source": [
    "# Set output plot size\n",
    "options(repr.plot.width=8, repr.plot.height=4)\n",
    "\n",
    "# Create bar plot\n",
    "obama %>%\n",
    "    dplyr::select(Issue, Approve) %>%\n",
    "    dplyr::arrange(-Approve) %>%\n",
    "    dplyr::mutate(SortOrder = factor(Issue, Issue)) %>% \n",
    "    ggplot2::ggplot(ggplot2::aes(x=SortOrder, y=Approve, fill=Issue)) +\n",
    "        ggplot2::geom_bar(stat='identity', color='black') + \n",
    "        ggplot2::xlab('Issue') + ggplot2::ylab('Approval Count') +\n",
    "        ggplot2::theme(axis.text.x=ggplot2::element_blank()) +\n",
    "        ggplot2::ggtitle('Approval Rating of Obama') "
   ]
  },
  {
   "cell_type": "markdown",
   "metadata": {
    "cell_style": "split"
   },
   "source": [
    "### Stacked Bar Chart\n",
    "\n",
    "A stacked bar chart is similar to bar chart, but it adds more detail to the visual. It breaks down and compare parts of a whole (category). Each bar in the chart represents a whole, and segments in the bar represent different parts or categories of that whole. Similar to bar chart, stacked bar chart can also be vertical or horizontal.\n",
    "\n",
    "Let us plot each issue with their respective Approval, Disapproval and Neutral counts. This will generate a 100% stacked bar chart for each issue, so that the reactions are rightfully captured. 100% stacked bar is just another variant of regular stacked bar where all the measures are normalized as percentage instead of actual value."
   ]
  },
  {
   "cell_type": "markdown",
   "metadata": {
    "cell_style": "split"
   },
   "source": [
    "<img src=\"Images/stacked.jpg\">"
   ]
  },
  {
   "cell_type": "code",
   "execution_count": 24,
   "metadata": {},
   "outputs": [
    {
     "data": {
      "image/png": "[encoded data removed]",
      "text/plain": [
       "plot without title"
      ]
     },
     "metadata": {},
     "output_type": "display_data"
    }
   ],
   "source": [
    "# Set output plot size\n",
    "options(repr.plot.width=6, repr.plot.height=4)\n",
    "\n",
    "# We need to reshape the data to long format for this purpose\n",
    "obama_long = obama %>%\n",
    "    tidyr::gather('Reaction','Ratings', Approve, Disapprove, None)\n",
    "\n",
    "# Plot stacked\n",
    "ggplot2::ggplot(data = obama_long, ggplot2::aes(x = Issue, y = Ratings, fill = Reaction)) + \n",
    "    ggplot2:: geom_bar(stat='identity') + \n",
    "    ggplot2::theme(axis.text.x = ggplot2::element_text(angle = 90, hjust = 1)) + \n",
    "    ggplot2::scale_fill_brewer(palette = 15)"
   ]
  },
  {
   "cell_type": "markdown",
   "metadata": {
    "cell_style": "split"
   },
   "source": [
    "### Pie Chart\n",
    "\n",
    "A Pie-chart is a useful way of representing small numbers of variables. Particular aspects can be emphasised by exploding or highlighting segments. The pie chart is ideally suited to small numbers of variables, so the number of fill patterns or colours available will rarely be an issue, although the appropriate choice of pattern or colour will be important.\n",
    "\n",
    "Having said that, processing accurate information based on arc angle and vollume of slice is not easy for human brain. A pie chart could be easily replaced by a stacked bar chart.\n",
    "\n",
    "Let us consider the numbners of different reactions to the immigration issue during Obama era to demonstrate pie chart.?"
   ]
  },
  {
   "cell_type": "markdown",
   "metadata": {
    "cell_style": "split"
   },
   "source": [
    "<img src=\"Images/pie.gif\">\n",
    "\n",
    "_image source:_ http://www.agocg.ac.uk/"
   ]
  },
  {
   "cell_type": "code",
   "execution_count": 33,
   "metadata": {},
   "outputs": [
    {
     "data": {
      "image/png": "[encoded data removed]",
      "text/plain": [
       "plot without title"
      ]
     },
     "metadata": {},
     "output_type": "display_data"
    }
   ],
   "source": [
    "# For this purpose, I would need the long data set. Because we need the stacked chart before creating pie chart from it\n",
    "# Since pie chart is not easy to digest, I would NOT use the same color family for the different sections\n",
    "obama_long %>%\n",
    "    dplyr::filter(Issue=='Immigration') %>%\n",
    "    ggplot2::ggplot(ggplot2::aes(x=\"\", y=Ratings, fill=Reaction))+\n",
    "        ggplot2::geom_bar(width = 1, stat = 'identity') +\n",
    "        ggplot2::coord_polar('y', start=0) + \n",
    "        ggplot2::geom_text(ggplot2::aes(label = Ratings), position = ggplot2::position_stack(vjust = 0.5)) +\n",
    "        ggplot2::ggtitle(label = 'Reaction on Immigration Issue in Obama Era') +\n",
    "        ggplot2::scale_fill_brewer(palette='Spectral') + \n",
    "        ggplot2::theme(axis.line = ggplot2::element_blank(),\n",
    "          axis.text = ggplot2::element_blank(),\n",
    "          axis.ticks = ggplot2::element_blank(),\n",
    "          plot.title = ggplot2::element_text(hjust = 0.5))"
   ]
  },
  {
   "cell_type": "markdown",
   "metadata": {
    "cell_style": "split"
   },
   "source": [
    "### Donut Chart\n",
    "\n",
    "A donut chart is essentially a pie chart with the center cut out. Donit chart is intended to handle the drawbacks of comparing areas of the slices as in pie chart. Additionally, as in the example, the blank area at the center of the donut chart could be used to show other information.\n",
    "\n",
    "But still, donut charts do not add anything supirior comapred to stacked bar or bar.\n",
    "\n",
    "Different reactions on education issues during Obama era is plotted in a rin/donut."
   ]
  },
  {
   "cell_type": "markdown",
   "metadata": {
    "cell_style": "split"
   },
   "source": [
    "<img src=\"Images/donut.jpg\">"
   ]
  },
  {
   "cell_type": "code",
   "execution_count": 32,
   "metadata": {},
   "outputs": [
    {
     "data": {
      "image/png": "[encoded data removed]",
      "text/plain": [
       "plot without title"
      ]
     },
     "metadata": {},
     "output_type": "display_data"
    }
   ],
   "source": [
    "obama_long %>%\n",
    "    dplyr::filter(Issue=='Education') %>%\n",
    "    dplyr::mutate(ymax=cumsum(Ratings),\n",
    "                  ymin=c(0,ymax[1:length(ymax)-1])) %>%\n",
    "    ggplot2::ggplot(ggplot2::aes(fill=Reaction, ymax=ymax, ymin=ymin, xmax=4, xmin=3)) +\n",
    "         ggplot2::geom_rect() +\n",
    "         ggplot2::coord_polar(theta='y') +\n",
    "         ggplot2::xlim(c(0, 4)) +\n",
    "         ggplot2::theme(panel.grid=ggplot2::element_blank()) +\n",
    "         ggplot2::theme(axis.text=ggplot2::element_blank()) +\n",
    "         ggplot2::theme(axis.ticks=ggplot2::element_blank()) +\n",
    "         ggplot2::annotate('text', x = 0, y = 0, label = 'Reaction on Education') +\n",
    "         ggplot2::labs(title='')"
   ]
  },
  {
   "cell_type": "markdown",
   "metadata": {
    "cell_style": "split"
   },
   "source": [
    "### Line Graph\n",
    "\n",
    "Line graphs are used to track changes over short and long periods of time. When smaller changes exist, line graphs are better to use than bar graphs. Line graphs can also be used to compare changes over the same period of time for more than one group.\n",
    "\n",
    "For line graph demonstration, let's plot the profit by order year and segment from the famous _Sample Superstores_ dataset. This needs some additional data preparation as below."
   ]
  },
  {
   "cell_type": "markdown",
   "metadata": {
    "cell_style": "split"
   },
   "source": [
    "<img src=\"Images/line.gif\">\n",
    "\n",
    "_image source:_ http://www.owlnet.rice.edu"
   ]
  },
  {
   "cell_type": "code",
   "execution_count": 36,
   "metadata": {},
   "outputs": [
    {
     "data": {
      "text/html": [
       "<table>\n",
       "<caption>A tibble: 6 × 3</caption>\n",
       "<thead>\n",
       "\t<tr><th scope=col>OrderYear</th><th scope=col>Segment</th><th scope=col>TotalProfit</th></tr>\n",
       "\t<tr><th scope=col>&lt;dbl&gt;</th><th scope=col>&lt;chr&gt;</th><th scope=col>&lt;dbl&gt;</th></tr>\n",
       "</thead>\n",
       "<tbody>\n",
       "\t<tr><td>2014</td><td>Consumer   </td><td>24319.85</td></tr>\n",
       "\t<tr><td>2014</td><td>Corporate  </td><td>13513.28</td></tr>\n",
       "\t<tr><td>2014</td><td>Home Office</td><td>11710.85</td></tr>\n",
       "\t<tr><td>2015</td><td>Consumer   </td><td>28460.17</td></tr>\n",
       "\t<tr><td>2015</td><td>Corporate  </td><td>20688.32</td></tr>\n",
       "\t<tr><td>2015</td><td>Home Office</td><td>12470.11</td></tr>\n",
       "</tbody>\n",
       "</table>\n"
      ],
      "text/latex": [
       "A tibble: 6 × 3\n",
       "\\begin{tabular}{r|lll}\n",
       " OrderYear & Segment & TotalProfit\\\\\n",
       " <dbl> & <chr> & <dbl>\\\\\n",
       "\\hline\n",
       "\t 2014 & Consumer    & 24319.85\\\\\n",
       "\t 2014 & Corporate   & 13513.28\\\\\n",
       "\t 2014 & Home Office & 11710.85\\\\\n",
       "\t 2015 & Consumer    & 28460.17\\\\\n",
       "\t 2015 & Corporate   & 20688.32\\\\\n",
       "\t 2015 & Home Office & 12470.11\\\\\n",
       "\\end{tabular}\n"
      ],
      "text/markdown": [
       "\n",
       "A tibble: 6 × 3\n",
       "\n",
       "| OrderYear &lt;dbl&gt; | Segment &lt;chr&gt; | TotalProfit &lt;dbl&gt; |\n",
       "|---|---|---|\n",
       "| 2014 | Consumer    | 24319.85 |\n",
       "| 2014 | Corporate   | 13513.28 |\n",
       "| 2014 | Home Office | 11710.85 |\n",
       "| 2015 | Consumer    | 28460.17 |\n",
       "| 2015 | Corporate   | 20688.32 |\n",
       "| 2015 | Home Office | 12470.11 |\n",
       "\n"
      ],
      "text/plain": [
       "  OrderYear Segment     TotalProfit\n",
       "1 2014      Consumer    24319.85   \n",
       "2 2014      Corporate   13513.28   \n",
       "3 2014      Home Office 11710.85   \n",
       "4 2015      Consumer    28460.17   \n",
       "5 2015      Corporate   20688.32   \n",
       "6 2015      Home Office 12470.11   "
      ]
     },
     "metadata": {},
     "output_type": "display_data"
    }
   ],
   "source": [
    "# Import data to be used for visualization\n",
    "fileData = paste(getwd(), \"/Data/Sample - Superstore.xlsx\", sep = \"\")\n",
    "superstore = xlsx::read.xlsx(fileData, sheetIndex = 1, stringsAsFactors = FALSE)\n",
    "\n",
    "# Data preparation before plotting in a line graph\n",
    "superstorePrep = superstore %>% \n",
    "                  dplyr::mutate(OrderYear = as.numeric(format(as.Date(Order.Date), '%Y'))) %>% \n",
    "                  dplyr::select(OrderYear, Segment, Profit) %>% \n",
    "                  dplyr::group_by(OrderYear, Segment) %>% \n",
    "                  dplyr::summarise(TotalProfit = sum(Profit))\n",
    "\n",
    "# Examine data\n",
    "head(superstorePrep)"
   ]
  },
  {
   "cell_type": "code",
   "execution_count": 39,
   "metadata": {},
   "outputs": [
    {
     "data": {
      "image/png": "[encoded data removed]",
      "text/plain": [
       "plot without title"
      ]
     },
     "metadata": {},
     "output_type": "display_data"
    }
   ],
   "source": [
    "# Set output plot size\n",
    "options(repr.plot.width=6, repr.plot.height=3)\n",
    "\n",
    "# Create line plot\n",
    "ggplot2::ggplot(data=superstorePrep, ggplot2::aes(x=OrderYear, y=TotalProfit, group=Segment)) +\n",
    "    ggplot2::geom_line(linetype='solid', size=1.2, ggplot2::aes(color=Segment)) +\n",
    "    ggplot2::scale_color_brewer(palette='Dark2') +\n",
    "    ggplot2::theme_minimal() +\n",
    "    ggplot2::theme(legend.position='top', \n",
    "                   legend.title=ggplot2::element_text(size=14), \n",
    "                   legend.text=ggplot2::element_text(size=12),\n",
    "                   axis.text=ggplot2::element_text(size=12),\n",
    "                   axis.title=ggplot2::element_text(size=12)\n",
    "                  )"
   ]
  },
  {
   "cell_type": "markdown",
   "metadata": {
    "cell_style": "split"
   },
   "source": [
    "### Step Graph\n",
    "\n",
    "A step graph is a special type of line graph that is made up of lines in several horizontal intervals or 'steps'. The end of the previous horizontal step lies on the same vertical line for the start of the next step, i.e. each new step begins directly above where the previous step finished.\n",
    "\n",
    "The line graph in the prior segment is displayed as a step graph as below."
   ]
  },
  {
   "cell_type": "markdown",
   "metadata": {
    "cell_style": "split"
   },
   "source": [
    "<img src=\"Images/step.png\">"
   ]
  },
  {
   "cell_type": "code",
   "execution_count": 46,
   "metadata": {},
   "outputs": [
    {
     "data": {
      "image/png": "[encoded data removed]",
      "text/plain": [
       "plot without title"
      ]
     },
     "metadata": {},
     "output_type": "display_data"
    }
   ],
   "source": [
    "ggplot2::ggplot(data=superstorePrep, ggplot2::aes(x=OrderYear, y=TotalProfit, group=Segment)) +\n",
    "    ggplot2::geom_step(linetype='solid', size=1.2, ggplot2::aes(color=Segment)) +\n",
    "    ggplot2::scale_color_brewer(palette='Dark2') +\n",
    "    ggplot2::theme_minimal() +\n",
    "    ggplot2::theme(legend.position='top', \n",
    "                   legend.title=ggplot2::element_text(size=14), \n",
    "                   legend.text=ggplot2::element_text(size=12),\n",
    "                   axis.text=ggplot2::element_text(size=12),\n",
    "                   axis.title=ggplot2::element_text(size=12)\n",
    "                  )"
   ]
  },
  {
   "cell_type": "markdown",
   "metadata": {},
   "source": [
    "### Area Chart\n",
    "\n",
    "An area chart or area graph displays graphically quantitative data. It is based on the line chart. The area between axis and line are commonly emphasized with colors, textures and hatchings. Commonly one compares two or more quantities with an area chart.\n",
    "\n",
    "_Source:_ https://en.wikipedia.org/wiki/Area_chart\n",
    "\n",
    "<img src=\"Images/area.png\">"
   ]
  },
  {
   "cell_type": "code",
   "execution_count": 13,
   "metadata": {},
   "outputs": [
    {
     "data": {
      "text/html": [
       "<table>\n",
       "<thead><tr><th scope=col>Year</th><th scope=col>Average Value</th></tr></thead>\n",
       "<tbody>\n",
       "\t<tr><td>1948    </td><td>3.750000</td></tr>\n",
       "\t<tr><td>1949    </td><td>6.050000</td></tr>\n",
       "\t<tr><td>1950    </td><td>5.208333</td></tr>\n",
       "\t<tr><td>1951    </td><td>3.283333</td></tr>\n",
       "\t<tr><td>1952    </td><td>3.025000</td></tr>\n",
       "\t<tr><td>1953    </td><td>2.925000</td></tr>\n",
       "</tbody>\n",
       "</table>\n"
      ],
      "text/latex": [
       "\\begin{tabular}{r|ll}\n",
       " Year & Average Value\\\\\n",
       "\\hline\n",
       "\t 1948     & 3.750000\\\\\n",
       "\t 1949     & 6.050000\\\\\n",
       "\t 1950     & 5.208333\\\\\n",
       "\t 1951     & 3.283333\\\\\n",
       "\t 1952     & 3.025000\\\\\n",
       "\t 1953     & 2.925000\\\\\n",
       "\\end{tabular}\n"
      ],
      "text/markdown": [
       "\n",
       "| Year | Average Value |\n",
       "|---|---|\n",
       "| 1948     | 3.750000 |\n",
       "| 1949     | 6.050000 |\n",
       "| 1950     | 5.208333 |\n",
       "| 1951     | 3.283333 |\n",
       "| 1952     | 3.025000 |\n",
       "| 1953     | 2.925000 |\n",
       "\n"
      ],
      "text/plain": [
       "  Year Average Value\n",
       "1 1948 3.750000     \n",
       "2 1949 6.050000     \n",
       "3 1950 5.208333     \n",
       "4 1951 3.283333     \n",
       "5 1952 3.025000     \n",
       "6 1953 2.925000     "
      ]
     },
     "metadata": {},
     "output_type": "display_data"
    }
   ],
   "source": [
    "# Load data for area chart\n",
    "file_unemployement = paste(getwd(),'/Data/unemployement-rate-1948-2010.csv',sep='')\n",
    "\n",
    "raw_unemployement = read.csv2(file_unemployement, sep=',', stringsAsFactors = FALSE) %>% \n",
    "    dplyr::mutate(Value = as.numeric(Value)) %>% \n",
    "    as.data.frame()\n",
    "\n",
    "# Format data for area chart\n",
    "avg_unemployement = raw_unemployement %>%\n",
    "    dplyr::group_by(Year) %>%\n",
    "    dplyr::summarize('Average Value' = mean(Value))\n",
    "\n",
    "head(avg_unemployement)"
   ]
  },
  {
   "cell_type": "markdown",
   "metadata": {},
   "source": [
    "For demonstration, let's plot the average employment count by year."
   ]
  },
  {
   "cell_type": "code",
   "execution_count": 16,
   "metadata": {},
   "outputs": [
    {
     "data": {
      "image/png": "[encoded data removed]",
      "text/plain": [
       "plot without title"
      ]
     },
     "metadata": {},
     "output_type": "display_data"
    }
   ],
   "source": [
    "# Set output plot size\n",
    "options(repr.plot.width=5, repr.plot.height=3)\n",
    "\n",
    "# Create area chart\n",
    "ggplot2::ggplot(avg_unemployement, ggplot2::aes(x=Year , y=`Average Value`)) +\n",
    "ggplot2::geom_area( fill='blue', alpha=.2) +\n",
    "ggplot2::geom_line() +\n",
    "ggplot2::ggtitle('Average Value by Year')"
   ]
  },
  {
   "cell_type": "markdown",
   "metadata": {},
   "source": [
    "### Stacked Area Chart\n",
    "\n",
    "A stacked area chart is the extension of a basic area chart to display the evolution of the value of several groups on the same graphic. The values of each group are displayed on top of each other. It allows to check on the.\n",
    "\n",
    "_Source:_ https://python-graph-gallery.com/250-basic-stacked-area-chart/\n",
    "\n",
    "<img src=\"Images/stacked area.png\">"
   ]
  },
  {
   "cell_type": "code",
   "execution_count": 17,
   "metadata": {},
   "outputs": [
    {
     "data": {
      "text/html": [
       "<table>\n",
       "<thead><tr><th scope=col>year</th><th scope=col>category</th><th scope=col>expenditure</th><th scope=col>sex</th></tr></thead>\n",
       "<tbody>\n",
       "\t<tr><td>2008               </td><td>Food               </td><td> 6443              </td><td>1                  </td></tr>\n",
       "\t<tr><td>2008               </td><td>Alcoholic Beverages</td><td>  444              </td><td>1                  </td></tr>\n",
       "\t<tr><td>2008               </td><td>Housing            </td><td>17109              </td><td>1                  </td></tr>\n",
       "\t<tr><td>2008               </td><td>Apparel            </td><td> 1801              </td><td>1                  </td></tr>\n",
       "\t<tr><td>2008               </td><td>Transportation     </td><td> 8604              </td><td>1                  </td></tr>\n",
       "\t<tr><td>2008               </td><td>Healthcare         </td><td> 2976              </td><td>1                  </td></tr>\n",
       "</tbody>\n",
       "</table>\n"
      ],
      "text/latex": [
       "\\begin{tabular}{r|llll}\n",
       " year & category & expenditure & sex\\\\\n",
       "\\hline\n",
       "\t 2008                & Food                &  6443               & 1                  \\\\\n",
       "\t 2008                & Alcoholic Beverages &   444               & 1                  \\\\\n",
       "\t 2008                & Housing             & 17109               & 1                  \\\\\n",
       "\t 2008                & Apparel             &  1801               & 1                  \\\\\n",
       "\t 2008                & Transportation      &  8604               & 1                  \\\\\n",
       "\t 2008                & Healthcare          &  2976               & 1                  \\\\\n",
       "\\end{tabular}\n"
      ],
      "text/markdown": [
       "\n",
       "| year | category | expenditure | sex |\n",
       "|---|---|---|---|\n",
       "| 2008                | Food                |  6443               | 1                   |\n",
       "| 2008                | Alcoholic Beverages |   444               | 1                   |\n",
       "| 2008                | Housing             | 17109               | 1                   |\n",
       "| 2008                | Apparel             |  1801               | 1                   |\n",
       "| 2008                | Transportation      |  8604               | 1                   |\n",
       "| 2008                | Healthcare          |  2976               | 1                   |\n",
       "\n"
      ],
      "text/plain": [
       "  year category            expenditure sex\n",
       "1 2008 Food                 6443       1  \n",
       "2 2008 Alcoholic Beverages   444       1  \n",
       "3 2008 Housing             17109       1  \n",
       "4 2008 Apparel              1801       1  \n",
       "5 2008 Transportation       8604       1  \n",
       "6 2008 Healthcare           2976       1  "
      ]
     },
     "metadata": {},
     "output_type": "display_data"
    }
   ],
   "source": [
    "# Load data for stacked area chart\n",
    "file_expenditures = paste(getwd(),'/Data/expenditures.txt', sep='')\n",
    "raw_expenditures = read.table(file_expenditures, header = TRUE, sep = \"\\t\", dec = \".\", fill = TRUE)\n",
    "\n",
    "head(raw_expenditures)"
   ]
  },
  {
   "cell_type": "markdown",
   "metadata": {},
   "source": [
    "Let's take a look at what is the trend of the expenditure of each category over the years, from the expenditure dataset."
   ]
  },
  {
   "cell_type": "code",
   "execution_count": 19,
   "metadata": {},
   "outputs": [
    {
     "data": {
      "image/png": "[encoded data removed]",
      "text/plain": [
       "plot without title"
      ]
     },
     "metadata": {},
     "output_type": "display_data"
    }
   ],
   "source": [
    "# Set output plot size\n",
    "options(repr.plot.width=6, repr.plot.height=4)\n",
    "\n",
    "ggplot2::ggplot(raw_expenditures, ggplot2::aes(x=year, y=expenditure, fill=category)) + \n",
    "  ggplot2::geom_area()"
   ]
  },
  {
   "cell_type": "markdown",
   "metadata": {},
   "source": [
    "### Scatter Plot\n",
    "\n",
    "A scatter plot, also known as a scatter graph or a scatter chart, is a two-dimensional data visualization that uses dots to represent the values obtained for two different variables - one plotted along the x-axis and the other plotted along the y-axis. For example this scatter plot shows the height and weight of a fictitious set of children.\n",
    "\n",
    "Scatter plots are used when you want to show the relationship between two variables. Scatter plots are sometimes called correlation plots because they show how two variables are correlated.\n",
    "\n",
    "_Source:_ https://chartio.com/learn/charts/what-is-a-scatter-plot/"
   ]
  },
  {
   "cell_type": "code",
   "execution_count": 22,
   "metadata": {},
   "outputs": [
    {
     "name": "stdout",
     "output_type": "stream",
     "text": [
      "Crime rate by state"
     ]
    },
    {
     "data": {
      "text/html": [
       "<table>\n",
       "<thead><tr><th scope=col>state</th><th scope=col>murder</th><th scope=col>forcible_rape</th><th scope=col>robbery</th><th scope=col>aggravated_assault</th><th scope=col>burglary</th><th scope=col>larceny_theft</th><th scope=col>motor_vehicle_theft</th><th scope=col>population</th><th scope=col>total_crime</th><th scope=col>state_cont</th><th scope=col>name_caps</th><th scope=col>abbr</th><th scope=col>midwest</th></tr></thead>\n",
       "<tbody>\n",
       "\t<tr><td>Alabama   </td><td>8.2       </td><td>34.3      </td><td>141.4     </td><td>247.8     </td><td> 953.8    </td><td>2650.0    </td><td>288.3     </td><td> 4545049  </td><td>4323.8    </td><td>1         </td><td>ALABAMA   </td><td>AL        </td><td>0         </td></tr>\n",
       "\t<tr><td>Alaska    </td><td>4.8       </td><td>81.1      </td><td> 80.9     </td><td>465.1     </td><td> 622.5    </td><td>2599.1    </td><td>391.0     </td><td>  669488  </td><td>4244.5    </td><td>2         </td><td>ALASKA    </td><td>AK        </td><td>0         </td></tr>\n",
       "\t<tr><td>Arizona   </td><td>7.5       </td><td>33.8      </td><td>144.4     </td><td>327.4     </td><td> 948.4    </td><td>2965.2    </td><td>924.4     </td><td> 5974834  </td><td>5351.1    </td><td>3         </td><td>ARIZONA   </td><td>AZ        </td><td>0         </td></tr>\n",
       "\t<tr><td>Arkansas  </td><td>6.7       </td><td>42.9      </td><td> 91.1     </td><td>386.8     </td><td>1084.6    </td><td>2711.2    </td><td>262.1     </td><td> 2776221  </td><td>4585.4    </td><td>4         </td><td>ARKANSAS  </td><td>AR        </td><td>0         </td></tr>\n",
       "\t<tr><td>California</td><td>6.9       </td><td>26.0      </td><td>176.1     </td><td>317.3     </td><td> 693.3    </td><td>1916.5    </td><td>712.8     </td><td>35795255  </td><td>3848.9    </td><td>5         </td><td>CALIFORNIA</td><td>CA        </td><td>0         </td></tr>\n",
       "\t<tr><td>Colorado  </td><td>3.7       </td><td>43.4      </td><td> 84.6     </td><td>264.7     </td><td> 744.8    </td><td>2735.2    </td><td>559.5     </td><td> 4660780  </td><td>4435.9    </td><td>6         </td><td>COLORADO  </td><td>CO        </td><td>0         </td></tr>\n",
       "</tbody>\n",
       "</table>\n"
      ],
      "text/latex": [
       "\\begin{tabular}{r|llllllllllllll}\n",
       " state & murder & forcible\\_rape & robbery & aggravated\\_assault & burglary & larceny\\_theft & motor\\_vehicle\\_theft & population & total\\_crime & state\\_cont & name\\_caps & abbr & midwest\\\\\n",
       "\\hline\n",
       "\t Alabama    & 8.2        & 34.3       & 141.4      & 247.8      &  953.8     & 2650.0     & 288.3      &  4545049   & 4323.8     & 1          & ALABAMA    & AL         & 0         \\\\\n",
       "\t Alaska     & 4.8        & 81.1       &  80.9      & 465.1      &  622.5     & 2599.1     & 391.0      &   669488   & 4244.5     & 2          & ALASKA     & AK         & 0         \\\\\n",
       "\t Arizona    & 7.5        & 33.8       & 144.4      & 327.4      &  948.4     & 2965.2     & 924.4      &  5974834   & 5351.1     & 3          & ARIZONA    & AZ         & 0         \\\\\n",
       "\t Arkansas   & 6.7        & 42.9       &  91.1      & 386.8      & 1084.6     & 2711.2     & 262.1      &  2776221   & 4585.4     & 4          & ARKANSAS   & AR         & 0         \\\\\n",
       "\t California & 6.9        & 26.0       & 176.1      & 317.3      &  693.3     & 1916.5     & 712.8      & 35795255   & 3848.9     & 5          & CALIFORNIA & CA         & 0         \\\\\n",
       "\t Colorado   & 3.7        & 43.4       &  84.6      & 264.7      &  744.8     & 2735.2     & 559.5      &  4660780   & 4435.9     & 6          & COLORADO   & CO         & 0         \\\\\n",
       "\\end{tabular}\n"
      ],
      "text/markdown": [
       "\n",
       "| state | murder | forcible_rape | robbery | aggravated_assault | burglary | larceny_theft | motor_vehicle_theft | population | total_crime | state_cont | name_caps | abbr | midwest |\n",
       "|---|---|---|---|---|---|---|---|---|---|---|---|---|---|\n",
       "| Alabama    | 8.2        | 34.3       | 141.4      | 247.8      |  953.8     | 2650.0     | 288.3      |  4545049   | 4323.8     | 1          | ALABAMA    | AL         | 0          |\n",
       "| Alaska     | 4.8        | 81.1       |  80.9      | 465.1      |  622.5     | 2599.1     | 391.0      |   669488   | 4244.5     | 2          | ALASKA     | AK         | 0          |\n",
       "| Arizona    | 7.5        | 33.8       | 144.4      | 327.4      |  948.4     | 2965.2     | 924.4      |  5974834   | 5351.1     | 3          | ARIZONA    | AZ         | 0          |\n",
       "| Arkansas   | 6.7        | 42.9       |  91.1      | 386.8      | 1084.6     | 2711.2     | 262.1      |  2776221   | 4585.4     | 4          | ARKANSAS   | AR         | 0          |\n",
       "| California | 6.9        | 26.0       | 176.1      | 317.3      |  693.3     | 1916.5     | 712.8      | 35795255   | 3848.9     | 5          | CALIFORNIA | CA         | 0          |\n",
       "| Colorado   | 3.7        | 43.4       |  84.6      | 264.7      |  744.8     | 2735.2     | 559.5      |  4660780   | 4435.9     | 6          | COLORADO   | CO         | 0          |\n",
       "\n"
      ],
      "text/plain": [
       "  state      murder forcible_rape robbery aggravated_assault burglary\n",
       "1 Alabama    8.2    34.3          141.4   247.8               953.8  \n",
       "2 Alaska     4.8    81.1           80.9   465.1               622.5  \n",
       "3 Arizona    7.5    33.8          144.4   327.4               948.4  \n",
       "4 Arkansas   6.7    42.9           91.1   386.8              1084.6  \n",
       "5 California 6.9    26.0          176.1   317.3               693.3  \n",
       "6 Colorado   3.7    43.4           84.6   264.7               744.8  \n",
       "  larceny_theft motor_vehicle_theft population total_crime state_cont\n",
       "1 2650.0        288.3                4545049   4323.8      1         \n",
       "2 2599.1        391.0                 669488   4244.5      2         \n",
       "3 2965.2        924.4                5974834   5351.1      3         \n",
       "4 2711.2        262.1                2776221   4585.4      4         \n",
       "5 1916.5        712.8               35795255   3848.9      5         \n",
       "6 2735.2        559.5                4660780   4435.9      6         \n",
       "  name_caps  abbr midwest\n",
       "1 ALABAMA    AL   0      \n",
       "2 ALASKA     AK   0      \n",
       "3 ARIZONA    AZ   0      \n",
       "4 ARKANSAS   AR   0      \n",
       "5 CALIFORNIA CA   0      \n",
       "6 COLORADO   CO   0      "
      ]
     },
     "metadata": {},
     "output_type": "display_data"
    }
   ],
   "source": [
    "# Set data paths\n",
    "crime = paste(getwd(),'/Data/crimerates-by-state-2005.csv', sep='')\n",
    "lifeexpt = paste(getwd(),'/Data/life-expectancy.csv', sep='')\n",
    "states = paste(getwd(),'/Data/states_detail.xlsx', sep='')\n",
    "\n",
    "# Load crime rate data\n",
    "# Creating additional variable state_cont to convert the unique state variable from categorical to continuous\n",
    "crimerate <- read.csv2(crime, header=TRUE, sep=',', fill=TRUE, stringsAsFactors=FALSE) %>% \n",
    "  dplyr::mutate(murder = as.numeric(murder),\n",
    "                forcible_rape = as.numeric(forcible_rape),\n",
    "                robbery = as.numeric(robbery),\n",
    "                aggravated_assault = as.numeric(aggravated_assault),\n",
    "                burglary = as.numeric(burglary),\n",
    "                larceny_theft = as.numeric(larceny_theft),\n",
    "                motor_vehicle_theft = as.numeric(motor_vehicle_theft),\n",
    "                population = as.integer(population),\n",
    "                total_crime = murder+\n",
    "                  forcible_rape+\n",
    "                  robbery+\n",
    "                  aggravated_assault+\n",
    "                  burglary+\n",
    "                  larceny_theft+\n",
    "                  motor_vehicle_theft,\n",
    "                state_cont = rank(state, ties.method = 'first'))\n",
    "\n",
    "# For the additional data, I used US State to region mapping\n",
    "# I marked the mid west states and rest of USA in the region column in the states_detail.xlsx file\n",
    "# The file is uploaded in the same github repository\n",
    "state_detail <- xlsx::read.xlsx2(states,sheetIndex = 1, stringsAsFactors = FALSE)\n",
    "\n",
    "# Remove USA as a state and add region\n",
    "crimerate_states <- crimerate %>% \n",
    "  dplyr::left_join(state_detail, by='state') %>% \n",
    "  dplyr::filter(state !='United States') %>%\n",
    "  dplyr::mutate(midwest = as.integer(midwest))\n",
    "\n",
    "# Replace NA\n",
    "crimerate_states[is.na(crimerate_states)] <- 0\n",
    "\n",
    "# Load life expectancy data\n",
    "lifeexpt <- read.csv2(lifeexpt, header=TRUE, sep=',', fill=TRUE, stringsAsFactors=FALSE)\n",
    "\n",
    "cat('Crime rate by state')\n",
    "head(crimerate_states)"
   ]
  },
  {
   "cell_type": "markdown",
   "metadata": {},
   "source": [
    "For demonstration purpose, let's take a look at the correlation between robbery and murder, i.e. how many robbery also relate to murder and vice versa, using a correlation diagram or scatter plot."
   ]
  },
  {
   "cell_type": "code",
   "execution_count": 23,
   "metadata": {},
   "outputs": [
    {
     "data": {
      "image/png": "[encoded data removed]",
      "text/plain": [
       "plot without title"
      ]
     },
     "metadata": {},
     "output_type": "display_data"
    }
   ],
   "source": [
    "# Format graph size\n",
    "options(repr.plot.width = 4, repr.plot.height = 4)\n",
    "\n",
    "# Plot\n",
    "ggplot2::ggplot(data = crimerate_states) +\n",
    "  ggplot2::aes(x = murder, y = robbery) +\n",
    "  ggplot2::geom_point(color = \"#0c4c8a\") +\n",
    "  ggplot2::labs(title = \"Correlation between Robbery and Murder\",\n",
    "       x = \"Murder\",\n",
    "       y = \"Robbery\") +\n",
    "  ggplot2::theme_grey()"
   ]
  },
  {
   "cell_type": "markdown",
   "metadata": {},
   "source": [
    "### Bubble Chart\n",
    "\n",
    "A bubble chart is a data visualization that displays multiple circles (bubbles) in a two-dimensional plot. It is a generalization of the scatter plot, replacing the dots with bubbles. Most commonly, a bubble chart displays the values of three numeric variables, where each observation's data is shown by a circle (\"bubble\"), while the horizontal and vertical positions of the bubble show the values of two other variables.\n",
    "\n",
    "_Source:_ https://www.displayr.com/what-is-a-bubble-chart/"
   ]
  },
  {
   "cell_type": "markdown",
   "metadata": {},
   "source": [
    "Using the same data a sbubble chart, for demonstration, we can plot correlation between more than two variables by utilizing the size and color property of a bubble chart."
   ]
  },
  {
   "cell_type": "code",
   "execution_count": 24,
   "metadata": {},
   "outputs": [
    {
     "data": {
      "image/png": "[encoded data removed]",
      "text/plain": [
       "plot without title"
      ]
     },
     "metadata": {},
     "output_type": "display_data"
    }
   ],
   "source": [
    "# Format graph size\n",
    "options(repr.plot.width = 7, repr.plot.height = 3)\n",
    "\n",
    "# Plot\n",
    "ggplot2::ggplot(data = crimerate) +\n",
    "  ggplot2::aes(x = murder, y = robbery, color = total_crime, size = population) +\n",
    "  ggplot2::geom_point() +\n",
    "  ggplot2::labs(title = \"Relationship between Murder, Robbery, Total Crime and Population\") +\n",
    "  ggplot2::theme_classic()"
   ]
  },
  {
   "cell_type": "markdown",
   "metadata": {},
   "source": [
    "### Density Plot\n",
    "\n",
    "A Density Plot visualises the distribution of data over a continuous interval or time period. This chart is a variation of a Histogram that uses kernel smoothing to plot values, allowing for smoother distributions by smoothing out the noise. The peaks of a Density Plot help display where values are concentrated over the interval.\n",
    "\n",
    "An advantage Density Plots have over Histograms is that they're better at determining the distribution shape because they're not affected by the number of bins used (each bar used in a typical histogram). A Histogram comprising of only 4 bins wouldn't produce a distinguishable enough shape of distribution as a 20-bin Histogram would. However, with Density Plots, this isn't an issue.\n",
    "\n",
    "_Source:_ https://datavizcatalogue.com/methods/density_plot.html\n",
    "\n",
    "<img src=\"Images/density.png\">\n",
    "\n",
    "To demonstrate, let us compare total crime rate of mid west states to the rest of the states in the USA."
   ]
  },
  {
   "cell_type": "code",
   "execution_count": 25,
   "metadata": {},
   "outputs": [
    {
     "data": {
      "image/png": "[encoded data removed]",
      "text/plain": [
       "plot without title"
      ]
     },
     "metadata": {},
     "output_type": "display_data"
    }
   ],
   "source": [
    "# Prepare data\n",
    "crimerate_compare <- crimerate_states[,-1]\n",
    "rownames(crimerate_compare) <- crimerate_states[,1]\n",
    "\n",
    "# Plot\n",
    "ggplot2::ggplot(crimerate_compare) +\n",
    "  ggplot2::aes(total_crime, fill=as.factor(crimerate_compare$midwest)) +\n",
    "  ggplot2::geom_density(alpha = 0.3) +\n",
    "  ggplot2::labs(x='Total Crime', y='Density') +\n",
    "  ggplot2::theme_classic() +\n",
    "  ggplot2::guides(fill=ggplot2::guide_legend(title=\"Mid West flag\"))"
   ]
  },
  {
   "cell_type": "markdown",
   "metadata": {},
   "source": [
    "### Contour plot\n",
    "\n",
    "Contour plots (sometimes called Level Plots) are a way to show a three-dimensional surface on a two-dimensional plane. It graphs two predictor variables X Y on the y-axis and a response variable Z as contours. These contours are sometimes called z-slices or iso-response values. \n",
    "\n",
    "_Source:_ https://www.statisticshowto.datasciencecentral.com/contour-plots/\n",
    "\n",
    "Contour plots could be \n",
    "\n",
    "* __Rectangular__\n",
    "<img src=\"Images/contour1.png\">\n",
    "\n",
    "* __Polar__\n",
    "<img src=\"Images/contour2.png\">\n",
    "\n",
    "* __Triangular__\n",
    "<img src=\"Images/contour3.png\">\n",
    "\n",
    "For demonstration, let's take the NBA dataset and plot FTM (freethrow made) in _x axis_, FTA (freethrow attempt) in _y axis_ and TO (turnover) as the spatial points (_z axis_)."
   ]
  },
  {
   "cell_type": "code",
   "execution_count": 2,
   "metadata": {},
   "outputs": [
    {
     "data": {
      "text/html": [
       "<table>\n",
       "<thead><tr><th scope=col>Name</th><th scope=col>G</th><th scope=col>MIN</th><th scope=col>PTS</th><th scope=col>FGM</th><th scope=col>FGA</th><th scope=col>FGP</th><th scope=col>FTM</th><th scope=col>FTA</th><th scope=col>FTP</th><th scope=col>...</th><th scope=col>X3PA</th><th scope=col>X3PP</th><th scope=col>ORB</th><th scope=col>DRB</th><th scope=col>TRB</th><th scope=col>AST</th><th scope=col>STL</th><th scope=col>BLK</th><th scope=col>TO</th><th scope=col>PF</th></tr></thead>\n",
       "<tbody>\n",
       "\t<tr><td>Dwyane Wade   </td><td>79            </td><td>38.6          </td><td>30.2          </td><td>10.8          </td><td>22.0          </td><td>0.491         </td><td>7.5           </td><td>9.8           </td><td>0.765         </td><td>...           </td><td>3.5           </td><td>0.317         </td><td>1.1           </td><td>3.9           </td><td>5.0           </td><td>7.5           </td><td>2.2           </td><td>1.3           </td><td>3.4           </td><td>2.3           </td></tr>\n",
       "\t<tr><td>LeBron James  </td><td>81            </td><td>37.7          </td><td>28.4          </td><td> 9.7          </td><td>19.9          </td><td>0.489         </td><td>7.3           </td><td>9.4           </td><td>0.780         </td><td>...           </td><td>4.7           </td><td>0.344         </td><td>1.3           </td><td>6.3           </td><td>7.6           </td><td>7.2           </td><td>1.7           </td><td>1.1           </td><td>3.0           </td><td>1.7           </td></tr>\n",
       "\t<tr><td>Kobe Bryant   </td><td>82            </td><td>36.2          </td><td>26.8          </td><td> 9.8          </td><td>20.9          </td><td>0.467         </td><td>5.9           </td><td>6.9           </td><td>0.856         </td><td>...           </td><td>4.1           </td><td>0.351         </td><td>1.1           </td><td>4.1           </td><td>5.2           </td><td>4.9           </td><td>1.5           </td><td>0.5           </td><td>2.6           </td><td>2.3           </td></tr>\n",
       "\t<tr><td>Dirk Nowitzki </td><td>81            </td><td>37.7          </td><td>25.9          </td><td> 9.6          </td><td>20.0          </td><td>0.479         </td><td>6.0           </td><td>6.7           </td><td>0.890         </td><td>...           </td><td>2.1           </td><td>0.359         </td><td>1.1           </td><td>7.3           </td><td>8.4           </td><td>2.4           </td><td>0.8           </td><td>0.8           </td><td>1.9           </td><td>2.2           </td></tr>\n",
       "\t<tr><td>Danny Granger </td><td>67            </td><td>36.2          </td><td>25.8          </td><td> 8.5          </td><td>19.1          </td><td>0.447         </td><td>6.0           </td><td>6.9           </td><td>0.878         </td><td>...           </td><td>6.7           </td><td>0.404         </td><td>0.7           </td><td>4.4           </td><td>5.1           </td><td>2.7           </td><td>1.0           </td><td>1.4           </td><td>2.5           </td><td>3.1           </td></tr>\n",
       "\t<tr><td>Kevin Durant  </td><td>74            </td><td>39.0          </td><td>25.3          </td><td> 8.9          </td><td>18.8          </td><td>0.476         </td><td>6.1           </td><td>7.1           </td><td>0.863         </td><td>...           </td><td>3.1           </td><td>0.422         </td><td>1.0           </td><td>5.5           </td><td>6.5           </td><td>2.8           </td><td>1.3           </td><td>0.7           </td><td>3.0           </td><td>1.8           </td></tr>\n",
       "</tbody>\n",
       "</table>\n"
      ],
      "text/latex": [
       "\\begin{tabular}{r|lllllllllllllllllllll}\n",
       " Name & G & MIN & PTS & FGM & FGA & FGP & FTM & FTA & FTP & ... & X3PA & X3PP & ORB & DRB & TRB & AST & STL & BLK & TO & PF\\\\\n",
       "\\hline\n",
       "\t Dwyane Wade    & 79             & 38.6           & 30.2           & 10.8           & 22.0           & 0.491          & 7.5            & 9.8            & 0.765          & ...            & 3.5            & 0.317          & 1.1            & 3.9            & 5.0            & 7.5            & 2.2            & 1.3            & 3.4            & 2.3           \\\\\n",
       "\t LeBron James   & 81             & 37.7           & 28.4           &  9.7           & 19.9           & 0.489          & 7.3            & 9.4            & 0.780          & ...            & 4.7            & 0.344          & 1.3            & 6.3            & 7.6            & 7.2            & 1.7            & 1.1            & 3.0            & 1.7           \\\\\n",
       "\t Kobe Bryant    & 82             & 36.2           & 26.8           &  9.8           & 20.9           & 0.467          & 5.9            & 6.9            & 0.856          & ...            & 4.1            & 0.351          & 1.1            & 4.1            & 5.2            & 4.9            & 1.5            & 0.5            & 2.6            & 2.3           \\\\\n",
       "\t Dirk Nowitzki  & 81             & 37.7           & 25.9           &  9.6           & 20.0           & 0.479          & 6.0            & 6.7            & 0.890          & ...            & 2.1            & 0.359          & 1.1            & 7.3            & 8.4            & 2.4            & 0.8            & 0.8            & 1.9            & 2.2           \\\\\n",
       "\t Danny Granger  & 67             & 36.2           & 25.8           &  8.5           & 19.1           & 0.447          & 6.0            & 6.9            & 0.878          & ...            & 6.7            & 0.404          & 0.7            & 4.4            & 5.1            & 2.7            & 1.0            & 1.4            & 2.5            & 3.1           \\\\\n",
       "\t Kevin Durant   & 74             & 39.0           & 25.3           &  8.9           & 18.8           & 0.476          & 6.1            & 7.1            & 0.863          & ...            & 3.1            & 0.422          & 1.0            & 5.5            & 6.5            & 2.8            & 1.3            & 0.7            & 3.0            & 1.8           \\\\\n",
       "\\end{tabular}\n"
      ],
      "text/markdown": [
       "\n",
       "| Name | G | MIN | PTS | FGM | FGA | FGP | FTM | FTA | FTP | ... | X3PA | X3PP | ORB | DRB | TRB | AST | STL | BLK | TO | PF |\n",
       "|---|---|---|---|---|---|---|---|---|---|---|---|---|---|---|---|---|---|---|---|---|\n",
       "| Dwyane Wade    | 79             | 38.6           | 30.2           | 10.8           | 22.0           | 0.491          | 7.5            | 9.8            | 0.765          | ...            | 3.5            | 0.317          | 1.1            | 3.9            | 5.0            | 7.5            | 2.2            | 1.3            | 3.4            | 2.3            |\n",
       "| LeBron James   | 81             | 37.7           | 28.4           |  9.7           | 19.9           | 0.489          | 7.3            | 9.4            | 0.780          | ...            | 4.7            | 0.344          | 1.3            | 6.3            | 7.6            | 7.2            | 1.7            | 1.1            | 3.0            | 1.7            |\n",
       "| Kobe Bryant    | 82             | 36.2           | 26.8           |  9.8           | 20.9           | 0.467          | 5.9            | 6.9            | 0.856          | ...            | 4.1            | 0.351          | 1.1            | 4.1            | 5.2            | 4.9            | 1.5            | 0.5            | 2.6            | 2.3            |\n",
       "| Dirk Nowitzki  | 81             | 37.7           | 25.9           |  9.6           | 20.0           | 0.479          | 6.0            | 6.7            | 0.890          | ...            | 2.1            | 0.359          | 1.1            | 7.3            | 8.4            | 2.4            | 0.8            | 0.8            | 1.9            | 2.2            |\n",
       "| Danny Granger  | 67             | 36.2           | 25.8           |  8.5           | 19.1           | 0.447          | 6.0            | 6.9            | 0.878          | ...            | 6.7            | 0.404          | 0.7            | 4.4            | 5.1            | 2.7            | 1.0            | 1.4            | 2.5            | 3.1            |\n",
       "| Kevin Durant   | 74             | 39.0           | 25.3           |  8.9           | 18.8           | 0.476          | 6.1            | 7.1            | 0.863          | ...            | 3.1            | 0.422          | 1.0            | 5.5            | 6.5            | 2.8            | 1.3            | 0.7            | 3.0            | 1.8            |\n",
       "\n"
      ],
      "text/plain": [
       "  Name           G  MIN  PTS  FGM  FGA  FGP   FTM FTA FTP   ... X3PA X3PP  ORB\n",
       "1 Dwyane Wade    79 38.6 30.2 10.8 22.0 0.491 7.5 9.8 0.765 ... 3.5  0.317 1.1\n",
       "2 LeBron James   81 37.7 28.4  9.7 19.9 0.489 7.3 9.4 0.780 ... 4.7  0.344 1.3\n",
       "3 Kobe Bryant    82 36.2 26.8  9.8 20.9 0.467 5.9 6.9 0.856 ... 4.1  0.351 1.1\n",
       "4 Dirk Nowitzki  81 37.7 25.9  9.6 20.0 0.479 6.0 6.7 0.890 ... 2.1  0.359 1.1\n",
       "5 Danny Granger  67 36.2 25.8  8.5 19.1 0.447 6.0 6.9 0.878 ... 6.7  0.404 0.7\n",
       "6 Kevin Durant   74 39.0 25.3  8.9 18.8 0.476 6.1 7.1 0.863 ... 3.1  0.422 1.0\n",
       "  DRB TRB AST STL BLK TO  PF \n",
       "1 3.9 5.0 7.5 2.2 1.3 3.4 2.3\n",
       "2 6.3 7.6 7.2 1.7 1.1 3.0 1.7\n",
       "3 4.1 5.2 4.9 1.5 0.5 2.6 2.3\n",
       "4 7.3 8.4 2.4 0.8 0.8 1.9 2.2\n",
       "5 4.4 5.1 2.7 1.0 1.4 2.5 3.1\n",
       "6 5.5 6.5 2.8 1.3 0.7 3.0 1.8"
      ]
     },
     "metadata": {},
     "output_type": "display_data"
    }
   ],
   "source": [
    "# Get data\n",
    "ppg = read.csv(paste(getwd(),'/Data/ppg2008.csv', sep=''))\n",
    "\n",
    "# Examine data\n",
    "head(ppg)"
   ]
  },
  {
   "cell_type": "code",
   "execution_count": 12,
   "metadata": {},
   "outputs": [
    {
     "data": {
      "image/png": "[encoded data removed]",
      "text/plain": [
       "plot without title"
      ]
     },
     "metadata": {},
     "output_type": "display_data"
    }
   ],
   "source": [
    "# Create contour plot\n",
    "ggplot2::ggplot(ppg, ggplot2::aes(x=FTM, y=FTA))+\n",
    "  ggplot2::theme_bw()+\n",
    "  ggplot2::geom_point(alpha=0.1, col='red')+\n",
    "  ggplot2::geom_density2d(color='black')+\n",
    "  ggplot2::ggtitle('Contour Plot')+\n",
    "  ggplot2::theme(plot.title = ggplot2::element_text(hjust = 0.5))+\n",
    "  ggplot2::labs(x='FTM', y='FTA',z='TO')"
   ]
  },
  {
   "cell_type": "markdown",
   "metadata": {},
   "source": [
    "### Histogram\n",
    "\n",
    "Histograms provide a visual interpretation of numerical data by indicating the number of data points that lie within a range of values. These ranges of values are called classes or bins. The frequency of the data that falls in each class is depicted by the use of a bar. The higher that the bar is, the greater the frequency of data values in that bin.\n",
    "\n",
    "Histogram is very similar to bar graph but bar graph plots frequency about categorical data whereas histogram plots frequency of ordinal/numeric data.\n",
    "\n",
    "<img src=\"Images/histogram.png\">"
   ]
  },
  {
   "cell_type": "code",
   "execution_count": 15,
   "metadata": {},
   "outputs": [
    {
     "data": {
      "text/html": [
       "<table>\n",
       "<thead><tr><th scope=col>Country</th><th scope=col>Year</th><th scope=col>Population</th><th scope=col>Population_int</th></tr></thead>\n",
       "<tbody>\n",
       "\t<tr><td>Aruba               </td><td>X1960               </td><td>36.40000            </td><td>37                  </td></tr>\n",
       "\t<tr><td>Afghanistan         </td><td>X1960               </td><td>52.20100            </td><td>53                  </td></tr>\n",
       "\t<tr><td>Angola              </td><td>X1960               </td><td>54.43200            </td><td>55                  </td></tr>\n",
       "\t<tr><td>Albania             </td><td>X1960               </td><td>40.88600            </td><td>41                  </td></tr>\n",
       "\t<tr><td>Netherlands Antilles</td><td>X1960               </td><td>32.32100            </td><td>33                  </td></tr>\n",
       "\t<tr><td>Arab World          </td><td>X1960               </td><td>47.61122            </td><td>48                  </td></tr>\n",
       "</tbody>\n",
       "</table>\n"
      ],
      "text/latex": [
       "\\begin{tabular}{r|llll}\n",
       " Country & Year & Population & Population\\_int\\\\\n",
       "\\hline\n",
       "\t Aruba                & X1960                & 36.40000             & 37                  \\\\\n",
       "\t Afghanistan          & X1960                & 52.20100             & 53                  \\\\\n",
       "\t Angola               & X1960                & 54.43200             & 55                  \\\\\n",
       "\t Albania              & X1960                & 40.88600             & 41                  \\\\\n",
       "\t Netherlands Antilles & X1960                & 32.32100             & 33                  \\\\\n",
       "\t Arab World           & X1960                & 47.61122             & 48                  \\\\\n",
       "\\end{tabular}\n"
      ],
      "text/markdown": [
       "\n",
       "| Country | Year | Population | Population_int |\n",
       "|---|---|---|---|\n",
       "| Aruba                | X1960                | 36.40000             | 37                   |\n",
       "| Afghanistan          | X1960                | 52.20100             | 53                   |\n",
       "| Angola               | X1960                | 54.43200             | 55                   |\n",
       "| Albania              | X1960                | 40.88600             | 41                   |\n",
       "| Netherlands Antilles | X1960                | 32.32100             | 33                   |\n",
       "| Arab World           | X1960                | 47.61122             | 48                   |\n",
       "\n"
      ],
      "text/plain": [
       "  Country              Year  Population Population_int\n",
       "1 Aruba                X1960 36.40000   37            \n",
       "2 Afghanistan          X1960 52.20100   53            \n",
       "3 Angola               X1960 54.43200   55            \n",
       "4 Albania              X1960 40.88600   41            \n",
       "5 Netherlands Antilles X1960 32.32100   33            \n",
       "6 Arab World           X1960 47.61122   48            "
      ]
     },
     "metadata": {},
     "output_type": "display_data"
    }
   ],
   "source": [
    "# load birth rate data\n",
    "birthrate <- read.csv(paste(getwd(),'/Data/birth-rate.csv', sep=''))\n",
    "\n",
    "# Create pivotted data for plotting\n",
    "birthrate_hist <- reshape2::melt(birthrate, id=c(\"Country\")) %>%\n",
    "  dplyr::mutate(\"Country\" = as.character(Country),\n",
    "                \"Year\" = as.character(variable),\n",
    "                \"Population\" = value,\n",
    "                \"Population_int\" = ceiling(value)) %>% \n",
    "  dplyr::select(c(\"Country\",\"Year\",\"Population\", \"Population_int\"))\n",
    "\n",
    "head(birthrate_hist)"
   ]
  },
  {
   "cell_type": "code",
   "execution_count": 34,
   "metadata": {},
   "outputs": [
    {
     "data": {
      "image/png": "[encoded data removed]",
      "text/plain": [
       "Plot with title \"\""
      ]
     },
     "metadata": {},
     "output_type": "display_data"
    }
   ],
   "source": [
    "options(repr.plot.width = 4, repr.plot.height = 4)\n",
    "\n",
    "# create histogram of population data\n",
    "hist(birthrate_hist$Population_int, xlab = \"Population (M)\", col=rgb(0.2,0.8,0.5,0.5) , border=F , main=\"\")"
   ]
  },
  {
   "cell_type": "markdown",
   "metadata": {},
   "source": [
    "### Box plot\n",
    "\n",
    "A box plot is also called a box and whisker plot. It is a convenient way of graphically depicting groups of numerical data through their quartiles. Box plots may also have lines extending vertically from the boxes (whiskers) indicating variability outside the upper and lower quartiles, hence the terms box-and-whisker plot. Outliers are usually plotted as individual data points.\n",
    "\n",
    "<img src=\"Images/box.png\">"
   ]
  },
  {
   "cell_type": "code",
   "execution_count": 36,
   "metadata": {},
   "outputs": [
    {
     "data": {
      "image/png": "[encoded data removed]",
      "text/plain": [
       "plot without title"
      ]
     },
     "metadata": {},
     "output_type": "display_data"
    }
   ],
   "source": [
    "# create box plot of population data\n",
    "birthrate_box <- birthrate_hist %>% \n",
    "  dplyr::filter(Country %in% c(\"United States\", \"India\"))\n",
    "\n",
    "boxplot(birthrate_box$Population ~ birthrate_box$Country , xlab = \"Country\", ylab = \"Population\", col=\"grey\")"
   ]
  },
  {
   "cell_type": "markdown",
   "metadata": {},
   "source": [
    "### Parallel plot\n",
    "\n",
    "Parallel plot or Parallel Coordinates Plots allow to compare the feature of several individual observations on a set of numerical variables. Each vertical bar represents a variable and usually has its own scale. (The units can even be different!). Values are then plotted as series of lines connected across each axis.\n",
    "\n",
    "_Source:_ https://python-graph-gallery.com/parallel-plot/\n",
    "\n",
    "<img src=\"Images/parallel.png\">\n",
    "\n",
    "Let's plot the different measures for education type, reading, writing and math, across all the states of USA."
   ]
  },
  {
   "cell_type": "code",
   "execution_count": 44,
   "metadata": {},
   "outputs": [
    {
     "data": {
      "text/html": [
       "<table>\n",
       "<thead><tr><th scope=col>state</th><th scope=col>reading</th><th scope=col>math</th><th scope=col>writing</th><th scope=col>percent_graduates_sat</th><th scope=col>pupil_staff_ratio</th><th scope=col>dropout_rate</th></tr></thead>\n",
       "<tbody>\n",
       "\t<tr><td>Alabama   </td><td>557       </td><td>552       </td><td>549       </td><td> 7        </td><td> 6.7      </td><td>2.3       </td></tr>\n",
       "\t<tr><td>Alaska    </td><td>520       </td><td>516       </td><td>492       </td><td>46        </td><td> 7.9      </td><td>7.3       </td></tr>\n",
       "\t<tr><td>Arizona   </td><td>516       </td><td>521       </td><td>497       </td><td>26        </td><td>10.4      </td><td>7.6       </td></tr>\n",
       "\t<tr><td>Arkansas  </td><td>572       </td><td>572       </td><td>556       </td><td> 5        </td><td> 6.8      </td><td>4.6       </td></tr>\n",
       "\t<tr><td>California</td><td>500       </td><td>513       </td><td>498       </td><td>49        </td><td>10.9      </td><td>5.5       </td></tr>\n",
       "\t<tr><td>Colorado  </td><td>568       </td><td>575       </td><td>555       </td><td>20        </td><td> 8.1      </td><td>6.9       </td></tr>\n",
       "</tbody>\n",
       "</table>\n"
      ],
      "text/latex": [
       "\\begin{tabular}{r|lllllll}\n",
       " state & reading & math & writing & percent\\_graduates\\_sat & pupil\\_staff\\_ratio & dropout\\_rate\\\\\n",
       "\\hline\n",
       "\t Alabama    & 557        & 552        & 549        &  7         &  6.7       & 2.3       \\\\\n",
       "\t Alaska     & 520        & 516        & 492        & 46         &  7.9       & 7.3       \\\\\n",
       "\t Arizona    & 516        & 521        & 497        & 26         & 10.4       & 7.6       \\\\\n",
       "\t Arkansas   & 572        & 572        & 556        &  5         &  6.8       & 4.6       \\\\\n",
       "\t California & 500        & 513        & 498        & 49         & 10.9       & 5.5       \\\\\n",
       "\t Colorado   & 568        & 575        & 555        & 20         &  8.1       & 6.9       \\\\\n",
       "\\end{tabular}\n"
      ],
      "text/markdown": [
       "\n",
       "| state | reading | math | writing | percent_graduates_sat | pupil_staff_ratio | dropout_rate |\n",
       "|---|---|---|---|---|---|---|\n",
       "| Alabama    | 557        | 552        | 549        |  7         |  6.7       | 2.3        |\n",
       "| Alaska     | 520        | 516        | 492        | 46         |  7.9       | 7.3        |\n",
       "| Arizona    | 516        | 521        | 497        | 26         | 10.4       | 7.6        |\n",
       "| Arkansas   | 572        | 572        | 556        |  5         |  6.8       | 4.6        |\n",
       "| California | 500        | 513        | 498        | 49         | 10.9       | 5.5        |\n",
       "| Colorado   | 568        | 575        | 555        | 20         |  8.1       | 6.9        |\n",
       "\n"
      ],
      "text/plain": [
       "  state      reading math writing percent_graduates_sat pupil_staff_ratio\n",
       "1 Alabama    557     552  549      7                     6.7             \n",
       "2 Alaska     520     516  492     46                     7.9             \n",
       "3 Arizona    516     521  497     26                    10.4             \n",
       "4 Arkansas   572     572  556      5                     6.8             \n",
       "5 California 500     513  498     49                    10.9             \n",
       "6 Colorado   568     575  555     20                     8.1             \n",
       "  dropout_rate\n",
       "1 2.3         \n",
       "2 7.3         \n",
       "3 7.6         \n",
       "4 4.6         \n",
       "5 5.5         \n",
       "6 6.9         "
      ]
     },
     "metadata": {},
     "output_type": "display_data"
    }
   ],
   "source": [
    "# load education data\n",
    "education <- read.csv(paste(getwd(),'/Data/education.csv', sep=''))\n",
    "\n",
    "# parallel plot\n",
    "education_parallel <- education %>% \n",
    "  dplyr::filter(stringr::str_trim(state, \"both\") != \"United States\")\n",
    "\n",
    "head(education_parallel)"
   ]
  },
  {
   "cell_type": "code",
   "execution_count": 43,
   "metadata": {},
   "outputs": [
    {
     "data": {
      "image/png": "[encoded data removed]",
      "text/plain": [
       "plot without title"
      ]
     },
     "metadata": {},
     "output_type": "display_data"
    }
   ],
   "source": [
    "# vector color\n",
    "my_colors=colors()[as.numeric(education_parallel$state)*11]\n",
    "\n",
    "# make the graph\n",
    "MASS::parcoord(education_parallel[,c(2:4)] , col= my_colors  )"
   ]
  },
  {
   "cell_type": "markdown",
   "metadata": {},
   "source": [
    "<h1><center>End of Code</center></h1>"
   ]
  }
 ],
 "metadata": {
  "kernelspec": {
   "display_name": "R",
   "language": "R",
   "name": "ir"
  },
  "language_info": {
   "codemirror_mode": "r",
   "file_extension": ".r",
   "mimetype": "text/x-r-source",
   "name": "R",
   "pygments_lexer": "r",
   "version": "3.6.1"
  },
  "latex_envs": {
   "LaTeX_envs_menu_present": true,
   "autoclose": false,
   "autocomplete": true,
   "bibliofile": "biblio.bib",
   "cite_by": "apalike",
   "current_citInitial": 1,
   "eqLabelWithNumbers": true,
   "eqNumInitial": 1,
   "hotkeys": {
    "equation": "Ctrl-E",
    "itemize": "Ctrl-I"
   },
   "labels_anchors": false,
   "latex_user_defs": false,
   "report_style_numbering": false,
   "user_envs_cfg": false
  }
 },
 "nbformat": 4,
 "nbformat_minor": 2
}
